{
 "cells": [
  {
   "cell_type": "code",
   "id": "initial_id",
   "metadata": {
    "collapsed": true,
    "ExecuteTime": {
     "end_time": "2025-05-25T11:52:53.941282Z",
     "start_time": "2025-05-25T11:52:53.934090Z"
    }
   },
   "source": [
    "import matplotlib.pyplot as plt\n",
    "\n",
    "#\n",
    "# Plots the evolution of the training accuracy and loss\n",
    "#\n",
    "def plot(h,epochs):\n",
    "    LOSS = 0; ACCURACY = 1\n",
    "    training = np.zeros((2,epochs)); testing = np.zeros((2,epochs))\n",
    "    training[LOSS] = h.history['loss']\n",
    "    testing[LOSS] = h.history['val_loss']    # validation loss\n",
    "    training[ACCURACY] = h.history['mae']\n",
    "    testing[ACCURACY] = h.history['val_mae']  # validation accuracy\n",
    "\n",
    "    epochs = range(1,epochs+1)\n",
    "    fig, axs = plt.subplots(1,2, figsize=(17,5))\n",
    "    for i, label in zip((LOSS, ACCURACY),('loss', 'mae')):   \n",
    "        axs[i].plot(epochs, training[i], 'b-', label='Training ' + label)\n",
    "        axs[i].plot(epochs, testing[i], 'y-', label='Test ' + label)\n",
    "        axs[i].set_title('Training and test ' + label)\n",
    "        axs[i].set_xlabel('Epochs')\n",
    "        axs[i].set_ylabel(label)\n",
    "        axs[i].legend()\n",
    "        axs[i].grid(True)\n",
    "    plt.show()"
   ],
   "outputs": [],
   "execution_count": 5
  },
  {
   "metadata": {
    "ExecuteTime": {
     "end_time": "2025-05-25T11:53:47.261481Z",
     "start_time": "2025-05-25T11:53:46.635885Z"
    }
   },
   "cell_type": "code",
   "source": [
    "import pandas as pd\n",
    "import numpy as np\n",
    "from sklearn.model_selection import train_test_split\n",
    "\n",
    "\n",
    "# Load data\n",
    "data = pd.read_csv('../data_generation/dataset/Musical_Instruments.csv')\n",
    "\n",
    "# Map user and item IDs to integers\n",
    "user_map = {uid: idx + 1 for idx, uid in enumerate(data['user_id'].unique())}\n",
    "item_map = {iid: idx + 1 for idx, iid in enumerate(data['parent_asin'].unique())}\n",
    "\n",
    "data['user_id_num'] = data['user_id'].map(user_map)\n",
    "data['item_id'] = data['parent_asin'].map(item_map)\n",
    "\n",
    "# Count users/items\n",
    "NUM_USERS = len(user_map)\n",
    "NUM_ITEMS = len(item_map)\n",
    "\n",
    "print('Number of users:', NUM_USERS)\n",
    "print('Number of items:', NUM_ITEMS)\n",
    "\n",
    "# Prepare data for the model\n",
    "data = data[['user_id_num', 'item_id', 'rating']]\n",
    "\n",
    "# Split\n",
    "train, test = train_test_split(data, test_size=0.3, random_state=50)\n",
    "\n",
    "# Convert to float32 arrays for Keras\n",
    "train = train.to_numpy(dtype=np.float32)\n",
    "test = test.to_numpy(dtype=np.float32)\n",
    "\n",
    "# Define index positions\n",
    "USER = 0\n",
    "ITEM = 1\n",
    "RATING = 2\n"
   ],
   "id": "6e028685eb71106",
   "outputs": [
    {
     "name": "stdout",
     "output_type": "stream",
     "text": [
      "Number of users: 57439\n",
      "Number of items: 24587\n"
     ]
    }
   ],
   "execution_count": 7
  },
  {
   "metadata": {
    "ExecuteTime": {
     "end_time": "2025-05-25T11:58:20.334765Z",
     "start_time": "2025-05-25T11:53:58.046921Z"
    }
   },
   "cell_type": "code",
   "source": [
    "#\n",
    "# Running DEEPMF to obtain the embedding weights (both users and items)\n",
    "#\n",
    "from keras.models import Model, Sequential\n",
    "from keras.layers import Embedding, Flatten, Input, Dropout, Dense, Concatenate, Dot\n",
    "from keras.optimizers import Adam\n",
    "\n",
    "latent_dim = 5  # 5 neurons in the embedding can adequately code both the user and items\n",
    "\n",
    "item_input = Input(shape=[1],name='item-input')\n",
    "item_embedding = Embedding(NUM_ITEMS + 1, latent_dim, name='item-embedding')(item_input)\n",
    "item_vec = Flatten(name='item-flatten')(item_embedding)\n",
    "\n",
    "user_input = Input(shape=[1],name='user-input')\n",
    "user_embedding = Embedding(NUM_USERS + 1, latent_dim, name='user-embedding')(user_input)\n",
    "user_vec = Flatten(name='user-flatten')(user_embedding)\n",
    "\n",
    "dot = Dot(axes=1,name='item-user-concat')([item_vec, user_vec])\n",
    "\n",
    "model_deepMF = Model([user_input, item_input], dot)\n",
    "model_deepMF.compile(optimizer='adam', metrics=['mae'], loss='mean_squared_error')\n",
    "\n",
    "model_deepMF.summary()\n",
    "\n",
    "EPOCHS = 10\n",
    "history_deepMF = model_deepMF.fit([train[:,USER],train[:,ITEM]],train[:,RATING], \n",
    "                    validation_data=([test[:,USER],test[:,ITEM]], test[:,RATING]), \n",
    "                    epochs=EPOCHS, verbose=1)\n",
    "plot(history_deepMF,EPOCHS)"
   ],
   "id": "2f8b7352b3ccfcc6",
   "outputs": [
    {
     "data": {
      "text/plain": [
       "\u001B[1mModel: \"functional\"\u001B[0m\n"
      ],
      "text/html": [
       "<pre style=\"white-space:pre;overflow-x:auto;line-height:normal;font-family:Menlo,'DejaVu Sans Mono',consolas,'Courier New',monospace\"><span style=\"font-weight: bold\">Model: \"functional\"</span>\n",
       "</pre>\n"
      ]
     },
     "metadata": {},
     "output_type": "display_data"
    },
    {
     "data": {
      "text/plain": [
       "┏━━━━━━━━━━━━━━━━━━━━━┳━━━━━━━━━━━━━━━━━━━┳━━━━━━━━━━━━┳━━━━━━━━━━━━━━━━━━━┓\n",
       "┃\u001B[1m \u001B[0m\u001B[1mLayer (type)       \u001B[0m\u001B[1m \u001B[0m┃\u001B[1m \u001B[0m\u001B[1mOutput Shape     \u001B[0m\u001B[1m \u001B[0m┃\u001B[1m \u001B[0m\u001B[1m   Param #\u001B[0m\u001B[1m \u001B[0m┃\u001B[1m \u001B[0m\u001B[1mConnected to     \u001B[0m\u001B[1m \u001B[0m┃\n",
       "┡━━━━━━━━━━━━━━━━━━━━━╇━━━━━━━━━━━━━━━━━━━╇━━━━━━━━━━━━╇━━━━━━━━━━━━━━━━━━━┩\n",
       "│ item-input          │ (\u001B[38;5;45mNone\u001B[0m, \u001B[38;5;34m1\u001B[0m)         │          \u001B[38;5;34m0\u001B[0m │ -                 │\n",
       "│ (\u001B[38;5;33mInputLayer\u001B[0m)        │                   │            │                   │\n",
       "├─────────────────────┼───────────────────┼────────────┼───────────────────┤\n",
       "│ user-input          │ (\u001B[38;5;45mNone\u001B[0m, \u001B[38;5;34m1\u001B[0m)         │          \u001B[38;5;34m0\u001B[0m │ -                 │\n",
       "│ (\u001B[38;5;33mInputLayer\u001B[0m)        │                   │            │                   │\n",
       "├─────────────────────┼───────────────────┼────────────┼───────────────────┤\n",
       "│ item-embedding      │ (\u001B[38;5;45mNone\u001B[0m, \u001B[38;5;34m1\u001B[0m, \u001B[38;5;34m5\u001B[0m)      │    \u001B[38;5;34m122,940\u001B[0m │ item-input[\u001B[38;5;34m0\u001B[0m][\u001B[38;5;34m0\u001B[0m]  │\n",
       "│ (\u001B[38;5;33mEmbedding\u001B[0m)         │                   │            │                   │\n",
       "├─────────────────────┼───────────────────┼────────────┼───────────────────┤\n",
       "│ user-embedding      │ (\u001B[38;5;45mNone\u001B[0m, \u001B[38;5;34m1\u001B[0m, \u001B[38;5;34m5\u001B[0m)      │    \u001B[38;5;34m287,200\u001B[0m │ user-input[\u001B[38;5;34m0\u001B[0m][\u001B[38;5;34m0\u001B[0m]  │\n",
       "│ (\u001B[38;5;33mEmbedding\u001B[0m)         │                   │            │                   │\n",
       "├─────────────────────┼───────────────────┼────────────┼───────────────────┤\n",
       "│ item-flatten        │ (\u001B[38;5;45mNone\u001B[0m, \u001B[38;5;34m5\u001B[0m)         │          \u001B[38;5;34m0\u001B[0m │ item-embedding[\u001B[38;5;34m0\u001B[0m… │\n",
       "│ (\u001B[38;5;33mFlatten\u001B[0m)           │                   │            │                   │\n",
       "├─────────────────────┼───────────────────┼────────────┼───────────────────┤\n",
       "│ user-flatten        │ (\u001B[38;5;45mNone\u001B[0m, \u001B[38;5;34m5\u001B[0m)         │          \u001B[38;5;34m0\u001B[0m │ user-embedding[\u001B[38;5;34m0\u001B[0m… │\n",
       "│ (\u001B[38;5;33mFlatten\u001B[0m)           │                   │            │                   │\n",
       "├─────────────────────┼───────────────────┼────────────┼───────────────────┤\n",
       "│ item-user-concat    │ (\u001B[38;5;45mNone\u001B[0m, \u001B[38;5;34m1\u001B[0m)         │          \u001B[38;5;34m0\u001B[0m │ item-flatten[\u001B[38;5;34m0\u001B[0m][\u001B[38;5;34m…\u001B[0m │\n",
       "│ (\u001B[38;5;33mDot\u001B[0m)               │                   │            │ user-flatten[\u001B[38;5;34m0\u001B[0m][\u001B[38;5;34m…\u001B[0m │\n",
       "└─────────────────────┴───────────────────┴────────────┴───────────────────┘\n"
      ],
      "text/html": [
       "<pre style=\"white-space:pre;overflow-x:auto;line-height:normal;font-family:Menlo,'DejaVu Sans Mono',consolas,'Courier New',monospace\">┏━━━━━━━━━━━━━━━━━━━━━┳━━━━━━━━━━━━━━━━━━━┳━━━━━━━━━━━━┳━━━━━━━━━━━━━━━━━━━┓\n",
       "┃<span style=\"font-weight: bold\"> Layer (type)        </span>┃<span style=\"font-weight: bold\"> Output Shape      </span>┃<span style=\"font-weight: bold\">    Param # </span>┃<span style=\"font-weight: bold\"> Connected to      </span>┃\n",
       "┡━━━━━━━━━━━━━━━━━━━━━╇━━━━━━━━━━━━━━━━━━━╇━━━━━━━━━━━━╇━━━━━━━━━━━━━━━━━━━┩\n",
       "│ item-input          │ (<span style=\"color: #00d7ff; text-decoration-color: #00d7ff\">None</span>, <span style=\"color: #00af00; text-decoration-color: #00af00\">1</span>)         │          <span style=\"color: #00af00; text-decoration-color: #00af00\">0</span> │ -                 │\n",
       "│ (<span style=\"color: #0087ff; text-decoration-color: #0087ff\">InputLayer</span>)        │                   │            │                   │\n",
       "├─────────────────────┼───────────────────┼────────────┼───────────────────┤\n",
       "│ user-input          │ (<span style=\"color: #00d7ff; text-decoration-color: #00d7ff\">None</span>, <span style=\"color: #00af00; text-decoration-color: #00af00\">1</span>)         │          <span style=\"color: #00af00; text-decoration-color: #00af00\">0</span> │ -                 │\n",
       "│ (<span style=\"color: #0087ff; text-decoration-color: #0087ff\">InputLayer</span>)        │                   │            │                   │\n",
       "├─────────────────────┼───────────────────┼────────────┼───────────────────┤\n",
       "│ item-embedding      │ (<span style=\"color: #00d7ff; text-decoration-color: #00d7ff\">None</span>, <span style=\"color: #00af00; text-decoration-color: #00af00\">1</span>, <span style=\"color: #00af00; text-decoration-color: #00af00\">5</span>)      │    <span style=\"color: #00af00; text-decoration-color: #00af00\">122,940</span> │ item-input[<span style=\"color: #00af00; text-decoration-color: #00af00\">0</span>][<span style=\"color: #00af00; text-decoration-color: #00af00\">0</span>]  │\n",
       "│ (<span style=\"color: #0087ff; text-decoration-color: #0087ff\">Embedding</span>)         │                   │            │                   │\n",
       "├─────────────────────┼───────────────────┼────────────┼───────────────────┤\n",
       "│ user-embedding      │ (<span style=\"color: #00d7ff; text-decoration-color: #00d7ff\">None</span>, <span style=\"color: #00af00; text-decoration-color: #00af00\">1</span>, <span style=\"color: #00af00; text-decoration-color: #00af00\">5</span>)      │    <span style=\"color: #00af00; text-decoration-color: #00af00\">287,200</span> │ user-input[<span style=\"color: #00af00; text-decoration-color: #00af00\">0</span>][<span style=\"color: #00af00; text-decoration-color: #00af00\">0</span>]  │\n",
       "│ (<span style=\"color: #0087ff; text-decoration-color: #0087ff\">Embedding</span>)         │                   │            │                   │\n",
       "├─────────────────────┼───────────────────┼────────────┼───────────────────┤\n",
       "│ item-flatten        │ (<span style=\"color: #00d7ff; text-decoration-color: #00d7ff\">None</span>, <span style=\"color: #00af00; text-decoration-color: #00af00\">5</span>)         │          <span style=\"color: #00af00; text-decoration-color: #00af00\">0</span> │ item-embedding[<span style=\"color: #00af00; text-decoration-color: #00af00\">0</span>… │\n",
       "│ (<span style=\"color: #0087ff; text-decoration-color: #0087ff\">Flatten</span>)           │                   │            │                   │\n",
       "├─────────────────────┼───────────────────┼────────────┼───────────────────┤\n",
       "│ user-flatten        │ (<span style=\"color: #00d7ff; text-decoration-color: #00d7ff\">None</span>, <span style=\"color: #00af00; text-decoration-color: #00af00\">5</span>)         │          <span style=\"color: #00af00; text-decoration-color: #00af00\">0</span> │ user-embedding[<span style=\"color: #00af00; text-decoration-color: #00af00\">0</span>… │\n",
       "│ (<span style=\"color: #0087ff; text-decoration-color: #0087ff\">Flatten</span>)           │                   │            │                   │\n",
       "├─────────────────────┼───────────────────┼────────────┼───────────────────┤\n",
       "│ item-user-concat    │ (<span style=\"color: #00d7ff; text-decoration-color: #00d7ff\">None</span>, <span style=\"color: #00af00; text-decoration-color: #00af00\">1</span>)         │          <span style=\"color: #00af00; text-decoration-color: #00af00\">0</span> │ item-flatten[<span style=\"color: #00af00; text-decoration-color: #00af00\">0</span>][<span style=\"color: #00af00; text-decoration-color: #00af00\">…</span> │\n",
       "│ (<span style=\"color: #0087ff; text-decoration-color: #0087ff\">Dot</span>)               │                   │            │ user-flatten[<span style=\"color: #00af00; text-decoration-color: #00af00\">0</span>][<span style=\"color: #00af00; text-decoration-color: #00af00\">…</span> │\n",
       "└─────────────────────┴───────────────────┴────────────┴───────────────────┘\n",
       "</pre>\n"
      ]
     },
     "metadata": {},
     "output_type": "display_data"
    },
    {
     "data": {
      "text/plain": [
       "\u001B[1m Total params: \u001B[0m\u001B[38;5;34m410,140\u001B[0m (1.56 MB)\n"
      ],
      "text/html": [
       "<pre style=\"white-space:pre;overflow-x:auto;line-height:normal;font-family:Menlo,'DejaVu Sans Mono',consolas,'Courier New',monospace\"><span style=\"font-weight: bold\"> Total params: </span><span style=\"color: #00af00; text-decoration-color: #00af00\">410,140</span> (1.56 MB)\n",
       "</pre>\n"
      ]
     },
     "metadata": {},
     "output_type": "display_data"
    },
    {
     "data": {
      "text/plain": [
       "\u001B[1m Trainable params: \u001B[0m\u001B[38;5;34m410,140\u001B[0m (1.56 MB)\n"
      ],
      "text/html": [
       "<pre style=\"white-space:pre;overflow-x:auto;line-height:normal;font-family:Menlo,'DejaVu Sans Mono',consolas,'Courier New',monospace\"><span style=\"font-weight: bold\"> Trainable params: </span><span style=\"color: #00af00; text-decoration-color: #00af00\">410,140</span> (1.56 MB)\n",
       "</pre>\n"
      ]
     },
     "metadata": {},
     "output_type": "display_data"
    },
    {
     "data": {
      "text/plain": [
       "\u001B[1m Non-trainable params: \u001B[0m\u001B[38;5;34m0\u001B[0m (0.00 B)\n"
      ],
      "text/html": [
       "<pre style=\"white-space:pre;overflow-x:auto;line-height:normal;font-family:Menlo,'DejaVu Sans Mono',consolas,'Courier New',monospace\"><span style=\"font-weight: bold\"> Non-trainable params: </span><span style=\"color: #00af00; text-decoration-color: #00af00\">0</span> (0.00 B)\n",
       "</pre>\n"
      ]
     },
     "metadata": {},
     "output_type": "display_data"
    },
    {
     "name": "stdout",
     "output_type": "stream",
     "text": [
      "Epoch 1/10\n",
      "\u001B[1m11197/11197\u001B[0m \u001B[32m━━━━━━━━━━━━━━━━━━━━\u001B[0m\u001B[37m\u001B[0m \u001B[1m26s\u001B[0m 2ms/step - loss: 20.8009 - mae: 4.4371 - val_loss: 20.2936 - val_mae: 4.3794\n",
      "Epoch 2/10\n",
      "\u001B[1m11197/11197\u001B[0m \u001B[32m━━━━━━━━━━━━━━━━━━━━\u001B[0m\u001B[37m\u001B[0m \u001B[1m26s\u001B[0m 2ms/step - loss: 19.2388 - mae: 4.2480 - val_loss: 16.0443 - val_mae: 3.8023\n",
      "Epoch 3/10\n",
      "\u001B[1m11197/11197\u001B[0m \u001B[32m━━━━━━━━━━━━━━━━━━━━\u001B[0m\u001B[37m\u001B[0m \u001B[1m25s\u001B[0m 2ms/step - loss: 13.9411 - mae: 3.4858 - val_loss: 11.3176 - val_mae: 3.0462\n",
      "Epoch 4/10\n",
      "\u001B[1m11197/11197\u001B[0m \u001B[32m━━━━━━━━━━━━━━━━━━━━\u001B[0m\u001B[37m\u001B[0m \u001B[1m26s\u001B[0m 2ms/step - loss: 9.0544 - mae: 2.6491 - val_loss: 7.9316 - val_mae: 2.4277\n",
      "Epoch 5/10\n",
      "\u001B[1m11197/11197\u001B[0m \u001B[32m━━━━━━━━━━━━━━━━━━━━\u001B[0m\u001B[37m\u001B[0m \u001B[1m27s\u001B[0m 2ms/step - loss: 5.8299 - mae: 1.9996 - val_loss: 5.7234 - val_mae: 1.9705\n",
      "Epoch 6/10\n",
      "\u001B[1m11197/11197\u001B[0m \u001B[32m━━━━━━━━━━━━━━━━━━━━\u001B[0m\u001B[37m\u001B[0m \u001B[1m25s\u001B[0m 2ms/step - loss: 3.8413 - mae: 1.5372 - val_loss: 4.2931 - val_mae: 1.6393\n",
      "Epoch 7/10\n",
      "\u001B[1m11197/11197\u001B[0m \u001B[32m━━━━━━━━━━━━━━━━━━━━\u001B[0m\u001B[37m\u001B[0m \u001B[1m26s\u001B[0m 2ms/step - loss: 2.6345 - mae: 1.2177 - val_loss: 3.3609 - val_mae: 1.4030\n",
      "Epoch 8/10\n",
      "\u001B[1m11197/11197\u001B[0m \u001B[32m━━━━━━━━━━━━━━━━━━━━\u001B[0m\u001B[37m\u001B[0m \u001B[1m26s\u001B[0m 2ms/step - loss: 1.8950 - mae: 0.9970 - val_loss: 2.7442 - val_mae: 1.2350\n",
      "Epoch 9/10\n",
      "\u001B[1m11197/11197\u001B[0m \u001B[32m━━━━━━━━━━━━━━━━━━━━\u001B[0m\u001B[37m\u001B[0m \u001B[1m26s\u001B[0m 2ms/step - loss: 1.4592 - mae: 0.8524 - val_loss: 2.3310 - val_mae: 1.1145\n",
      "Epoch 10/10\n",
      "\u001B[1m11197/11197\u001B[0m \u001B[32m━━━━━━━━━━━━━━━━━━━━\u001B[0m\u001B[37m\u001B[0m \u001B[1m26s\u001B[0m 2ms/step - loss: 1.1775 - mae: 0.7502 - val_loss: 2.0523 - val_mae: 1.0306\n"
     ]
    },
    {
     "data": {
      "text/plain": [
       "<Figure size 1700x500 with 2 Axes>"
      ],
      "image/png": "[encoded data removed]"
     },
     "metadata": {},
     "output_type": "display_data"
    }
   ],
   "execution_count": 8
  },
  {
   "metadata": {
    "ExecuteTime": {
     "end_time": "2025-05-25T11:59:19.388057Z",
     "start_time": "2025-05-25T11:59:19.331133Z"
    }
   },
   "cell_type": "code",
   "source": [
    "# Save the model\n",
    "model_deepMF.save('../data_generation/models/ModelDeepMF.h5')"
   ],
   "id": "e36ab08e16eb68a5",
   "outputs": [
    {
     "name": "stderr",
     "output_type": "stream",
     "text": [
      "WARNING:absl:You are saving your model as an HDF5 file via `model.save()` or `keras.saving.save_model(model)`. This file format is considered legacy. We recommend using instead the native Keras format, e.g. `model.save('my_model.keras')` or `keras.saving.save_model(model, 'my_model.keras')`. \n"
     ]
    }
   ],
   "execution_count": 9
  },
  {
   "metadata": {
    "ExecuteTime": {
     "end_time": "2025-05-25T11:59:25.878816Z",
     "start_time": "2025-05-25T11:59:24.761726Z"
    }
   },
   "cell_type": "code",
   "source": [
    "from keras.models import Model\n",
    "\n",
    "# we create two models, from model_deepMF, to get user's and item's embeddings\n",
    "model_user_embeddings = Model(inputs=user_input, outputs=user_embedding)\n",
    "model_item_embeddings = Model(inputs=item_input, outputs=item_embedding)\n",
    "\n",
    "# obtaining all the existing users an items activation maps\n",
    "user_embeddings = model_user_embeddings.predict(np.array(range(NUM_USERS+1)))\n",
    "item_embeddings = model_item_embeddings.predict(np.array(range(NUM_ITEMS+1)))\n",
    "    "
   ],
   "id": "879a2d9cb55efe19",
   "outputs": [
    {
     "name": "stdout",
     "output_type": "stream",
     "text": [
      "\u001B[1m1795/1795\u001B[0m \u001B[32m━━━━━━━━━━━━━━━━━━━━\u001B[0m\u001B[37m\u001B[0m \u001B[1m0s\u001B[0m 264us/step\n",
      "\u001B[1m769/769\u001B[0m \u001B[32m━━━━━━━━━━━━━━━━━━━━\u001B[0m\u001B[37m\u001B[0m \u001B[1m0s\u001B[0m 265us/step\n"
     ]
    }
   ],
   "execution_count": 10
  },
  {
   "metadata": {
    "ExecuteTime": {
     "end_time": "2025-05-25T11:59:40.778554Z",
     "start_time": "2025-05-25T11:59:39.807765Z"
    }
   },
   "cell_type": "code",
   "source": [
    "import random\n",
    "\n",
    "#\n",
    "# creates the dataset of real samples: <user embedding, item embedding, rating>\n",
    "#\n",
    "def get_dataset(data):\n",
    "    embedding_dataset = np.zeros((len(data)+1,latent_dim * 2)) \n",
    "    ratings = np.zeros((len(data)+1))\n",
    "    for i in range(len(data)):\n",
    "        user_embedding = user_embeddings[int(data[i,USER])][0]\n",
    "        item_embedding = item_embeddings[int(data[i,ITEM])][0]\n",
    "        ratings[i] = (data[i,RATING]- 3.0) / 4.0   # normalized -0.5 to 0.5\n",
    "        embedding_dataset[i] = np.concatenate((user_embedding, item_embedding))\n",
    "    # add ratings\n",
    "    embedding_dataset = np.insert(embedding_dataset, latent_dim * 2, ratings, axis=1)\n",
    "    return embedding_dataset\n",
    "\n",
    "# train and test embeddings and ratings old_datasets (positive values)\n",
    "embedding_dataset = get_dataset(np.array(data))\n",
    "np.save('../data_generation/models/embedding_dataset.npy', embedding_dataset)\n"
   ],
   "id": "bb8689ea4bd1d128",
   "outputs": [],
   "execution_count": 11
  },
  {
   "metadata": {
    "ExecuteTime": {
     "end_time": "2025-05-25T12:10:02.806044Z",
     "start_time": "2025-05-25T12:01:04.698181Z"
    }
   },
   "cell_type": "code",
   "source": [
    " #\n",
    "# GAN to create the fake samples.\n",
    "# Both the generator and the discriminator models are really small because the source samples are not\n",
    "# large and sparse vectors; they are small and dense: 5 real number to code the user, 5 real numbers to \n",
    "# code the item and a real number to code the normalized rating.\n",
    "#\n",
    "from keras.models import Model, Sequential\n",
    "from keras.layers import Embedding, Flatten, Input, Dropout, Dense, Concatenate, Dot, LeakyReLU, BatchNormalization\n",
    "from keras.optimizers import Adam\n",
    "\n",
    "class GAN():\n",
    "    def __init__(self):\n",
    "        self.latent_dim = latent_dim\n",
    "        self.noise_dim = 100\n",
    "\n",
    "        optimizer_d = Adam(0.0006, 0.5)\n",
    "        optimizer_g = Adam(0.00001, 0.5)\n",
    "\n",
    "        # Build and compile the discriminator\n",
    "        self.discriminator = self.build_discriminator()\n",
    "        self.discriminator.compile(loss='binary_crossentropy',\n",
    "            optimizer=optimizer_d,\n",
    "            metrics=['accuracy'])\n",
    "\n",
    "        # Build the generator\n",
    "        self.generator = self.build_generator()\n",
    "\n",
    "        # The generator takes noise as input and generates user\n",
    "        z = Input(shape=(self.noise_dim,))\n",
    "        fake_sample = self.generator(z)\n",
    "\n",
    "        # For the combined model we will only train the generator\n",
    "        self.discriminator.trainable = False\n",
    "\n",
    "        # The discriminator takes generated users as input and determines validity\n",
    "        validity = self.discriminator(fake_sample)\n",
    "\n",
    "        # The combined model  (stacked generator and discriminator)\n",
    "        # Trains the generator to fool the discriminator\n",
    "        self.combined = Model(z, validity)\n",
    "        self.combined.compile(loss='binary_crossentropy', optimizer=optimizer_g)\n",
    "\n",
    "\n",
    "    def build_generator(self):\n",
    "\n",
    "        model = Sequential()\n",
    "        model.add(Dense(10, input_dim=self.noise_dim))\n",
    "        model.add(LeakyReLU(alpha=0.2))\n",
    "        model.add(BatchNormalization(momentum=0.8))\n",
    "        model.add(Dense(20, input_dim=self.noise_dim))\n",
    "        model.add(LeakyReLU(alpha=0.2))\n",
    "        model.add(Dropout(0.2))\n",
    "        model.add(Dense(self.latent_dim*2+1, activation='linear'))\n",
    "        model.summary()\n",
    "\n",
    "        noise = Input(shape=(self.noise_dim,))\n",
    "        fake_sample = model(noise)\n",
    "\n",
    "        return Model(noise, fake_sample)\n",
    "\n",
    "    \n",
    "    def build_discriminator(self):\n",
    "\n",
    "        model = Sequential()\n",
    "\n",
    "        model.add(Dense(4, input_dim=self.latent_dim*2 + 1))\n",
    "        model.add(LeakyReLU(alpha=0.2))\n",
    "        model.add(Dense(1, activation='sigmoid'))\n",
    "        model.summary()\n",
    "\n",
    "        sample = Input(shape=(self.latent_dim*2 + 1,))\n",
    "        validity = model(sample)\n",
    "\n",
    "        return Model(sample, validity)\n",
    "\n",
    "    \n",
    "    def train(self, dataset, epochs, batch_size=128, sample_interval=50, num_training_samples=100000):\n",
    "\n",
    "        # Adversarial ground truths\n",
    "        valid = np.ones((batch_size, 1))\n",
    "        fake = np.zeros((batch_size, 1))\n",
    "\n",
    "        for epoch in range(epochs):\n",
    "\n",
    "            # ---------------------\n",
    "            #  Train Discriminator\n",
    "            # ---------------------\n",
    "\n",
    "            # Select a random batch of real samples\n",
    "            idx = np.random.randint(0, num_training_samples, batch_size)\n",
    "            real_samples = dataset[idx]\n",
    "           \n",
    "            noise = np.random.normal(0, 1, (batch_size, self.noise_dim))\n",
    "\n",
    "            # Generate a batch of fake users\n",
    "            fake_samples = self.generator.predict(noise, verbose=0)\n",
    "\n",
    "            # Train the discriminator\n",
    "            d_loss_real = self.discriminator.train_on_batch(real_samples, valid)\n",
    "            d_loss_fake = self.discriminator.train_on_batch(fake_samples, fake)\n",
    "            d_loss = 0.5 * np.add(d_loss_real, d_loss_fake)\n",
    "\n",
    "            # ---------------------\n",
    "            #  Train Generator\n",
    "            # ---------------------\n",
    "\n",
    "            noise = np.random.normal(0, 1, (batch_size, self.noise_dim))\n",
    "\n",
    "            # Train the generator (to have the discriminator label samples as valid)\n",
    "            g_loss = self.combined.train_on_batch(noise, valid)\n",
    "\n",
    "            if epoch % sample_interval == 0:\n",
    "                print (\"%d [D loss: %f, acc.: %.2f%%] [G loss: %f]\" % (epoch, d_loss[0], 100*d_loss[1], g_loss))\n",
    "                noise = np.random.normal(0, 1, (1, self.noise_dim))\n",
    "            \n",
    "           #if epoch > 0 and epoch % 2000 == 0:\n",
    "            #    filename = f\"gan_generator_epoch{epoch}.h5\"\n",
    "            #    self.generator.save(filename)\n",
    "            #    print(f\" Generator gespeichert: {filename}\")\n",
    "\n",
    "if __name__ == '__main__':\n",
    "    gan = GAN()\n",
    "    gan.train(embedding_dataset, epochs=20000, batch_size=32, sample_interval=200, \n",
    "              num_training_samples = len(embedding_dataset))\n",
    "    gan.generator.save('../data_generation/models/GANRS.h5')\n",
    "    "
   ],
   "id": "59a8523a921bea27",
   "outputs": [
    {
     "name": "stderr",
     "output_type": "stream",
     "text": [
      "/Users/leonprivat/lenskit-env/lib/python3.10/site-packages/keras/src/layers/core/dense.py:93: UserWarning: Do not pass an `input_shape`/`input_dim` argument to a layer. When using Sequential models, prefer using an `Input(shape)` object as the first layer in the model instead.\n",
      "  super().__init__(activity_regularizer=activity_regularizer, **kwargs)\n",
      "/Users/leonprivat/lenskit-env/lib/python3.10/site-packages/keras/src/layers/activations/leaky_relu.py:41: UserWarning: Argument `alpha` is deprecated. Use `negative_slope` instead.\n",
      "  warnings.warn(\n"
     ]
    },
    {
     "data": {
      "text/plain": [
       "\u001B[1mModel: \"sequential_4\"\u001B[0m\n"
      ],
      "text/html": [
       "<pre style=\"white-space:pre;overflow-x:auto;line-height:normal;font-family:Menlo,'DejaVu Sans Mono',consolas,'Courier New',monospace\"><span style=\"font-weight: bold\">Model: \"sequential_4\"</span>\n",
       "</pre>\n"
      ]
     },
     "metadata": {},
     "output_type": "display_data"
    },
    {
     "data": {
      "text/plain": [
       "┏━━━━━━━━━━━━━━━━━━━━━━━━━━━━━━━━━┳━━━━━━━━━━━━━━━━━━━━━━━━┳━━━━━━━━━━━━━━━┓\n",
       "┃\u001B[1m \u001B[0m\u001B[1mLayer (type)                   \u001B[0m\u001B[1m \u001B[0m┃\u001B[1m \u001B[0m\u001B[1mOutput Shape          \u001B[0m\u001B[1m \u001B[0m┃\u001B[1m \u001B[0m\u001B[1m      Param #\u001B[0m\u001B[1m \u001B[0m┃\n",
       "┡━━━━━━━━━━━━━━━━━━━━━━━━━━━━━━━━━╇━━━━━━━━━━━━━━━━━━━━━━━━╇━━━━━━━━━━━━━━━┩\n",
       "│ dense_10 (\u001B[38;5;33mDense\u001B[0m)                │ (\u001B[38;5;45mNone\u001B[0m, \u001B[38;5;34m4\u001B[0m)              │            \u001B[38;5;34m48\u001B[0m │\n",
       "├─────────────────────────────────┼────────────────────────┼───────────────┤\n",
       "│ leaky_re_lu_6 (\u001B[38;5;33mLeakyReLU\u001B[0m)       │ (\u001B[38;5;45mNone\u001B[0m, \u001B[38;5;34m4\u001B[0m)              │             \u001B[38;5;34m0\u001B[0m │\n",
       "├─────────────────────────────────┼────────────────────────┼───────────────┤\n",
       "│ dense_11 (\u001B[38;5;33mDense\u001B[0m)                │ (\u001B[38;5;45mNone\u001B[0m, \u001B[38;5;34m1\u001B[0m)              │             \u001B[38;5;34m5\u001B[0m │\n",
       "└─────────────────────────────────┴────────────────────────┴───────────────┘\n"
      ],
      "text/html": [
       "<pre style=\"white-space:pre;overflow-x:auto;line-height:normal;font-family:Menlo,'DejaVu Sans Mono',consolas,'Courier New',monospace\">┏━━━━━━━━━━━━━━━━━━━━━━━━━━━━━━━━━┳━━━━━━━━━━━━━━━━━━━━━━━━┳━━━━━━━━━━━━━━━┓\n",
       "┃<span style=\"font-weight: bold\"> Layer (type)                    </span>┃<span style=\"font-weight: bold\"> Output Shape           </span>┃<span style=\"font-weight: bold\">       Param # </span>┃\n",
       "┡━━━━━━━━━━━━━━━━━━━━━━━━━━━━━━━━━╇━━━━━━━━━━━━━━━━━━━━━━━━╇━━━━━━━━━━━━━━━┩\n",
       "│ dense_10 (<span style=\"color: #0087ff; text-decoration-color: #0087ff\">Dense</span>)                │ (<span style=\"color: #00d7ff; text-decoration-color: #00d7ff\">None</span>, <span style=\"color: #00af00; text-decoration-color: #00af00\">4</span>)              │            <span style=\"color: #00af00; text-decoration-color: #00af00\">48</span> │\n",
       "├─────────────────────────────────┼────────────────────────┼───────────────┤\n",
       "│ leaky_re_lu_6 (<span style=\"color: #0087ff; text-decoration-color: #0087ff\">LeakyReLU</span>)       │ (<span style=\"color: #00d7ff; text-decoration-color: #00d7ff\">None</span>, <span style=\"color: #00af00; text-decoration-color: #00af00\">4</span>)              │             <span style=\"color: #00af00; text-decoration-color: #00af00\">0</span> │\n",
       "├─────────────────────────────────┼────────────────────────┼───────────────┤\n",
       "│ dense_11 (<span style=\"color: #0087ff; text-decoration-color: #0087ff\">Dense</span>)                │ (<span style=\"color: #00d7ff; text-decoration-color: #00d7ff\">None</span>, <span style=\"color: #00af00; text-decoration-color: #00af00\">1</span>)              │             <span style=\"color: #00af00; text-decoration-color: #00af00\">5</span> │\n",
       "└─────────────────────────────────┴────────────────────────┴───────────────┘\n",
       "</pre>\n"
      ]
     },
     "metadata": {},
     "output_type": "display_data"
    },
    {
     "data": {
      "text/plain": [
       "\u001B[1m Total params: \u001B[0m\u001B[38;5;34m53\u001B[0m (212.00 B)\n"
      ],
      "text/html": [
       "<pre style=\"white-space:pre;overflow-x:auto;line-height:normal;font-family:Menlo,'DejaVu Sans Mono',consolas,'Courier New',monospace\"><span style=\"font-weight: bold\"> Total params: </span><span style=\"color: #00af00; text-decoration-color: #00af00\">53</span> (212.00 B)\n",
       "</pre>\n"
      ]
     },
     "metadata": {},
     "output_type": "display_data"
    },
    {
     "data": {
      "text/plain": [
       "\u001B[1m Trainable params: \u001B[0m\u001B[38;5;34m53\u001B[0m (212.00 B)\n"
      ],
      "text/html": [
       "<pre style=\"white-space:pre;overflow-x:auto;line-height:normal;font-family:Menlo,'DejaVu Sans Mono',consolas,'Courier New',monospace\"><span style=\"font-weight: bold\"> Trainable params: </span><span style=\"color: #00af00; text-decoration-color: #00af00\">53</span> (212.00 B)\n",
       "</pre>\n"
      ]
     },
     "metadata": {},
     "output_type": "display_data"
    },
    {
     "data": {
      "text/plain": [
       "\u001B[1m Non-trainable params: \u001B[0m\u001B[38;5;34m0\u001B[0m (0.00 B)\n"
      ],
      "text/html": [
       "<pre style=\"white-space:pre;overflow-x:auto;line-height:normal;font-family:Menlo,'DejaVu Sans Mono',consolas,'Courier New',monospace\"><span style=\"font-weight: bold\"> Non-trainable params: </span><span style=\"color: #00af00; text-decoration-color: #00af00\">0</span> (0.00 B)\n",
       "</pre>\n"
      ]
     },
     "metadata": {},
     "output_type": "display_data"
    },
    {
     "data": {
      "text/plain": [
       "\u001B[1mModel: \"sequential_5\"\u001B[0m\n"
      ],
      "text/html": [
       "<pre style=\"white-space:pre;overflow-x:auto;line-height:normal;font-family:Menlo,'DejaVu Sans Mono',consolas,'Courier New',monospace\"><span style=\"font-weight: bold\">Model: \"sequential_5\"</span>\n",
       "</pre>\n"
      ]
     },
     "metadata": {},
     "output_type": "display_data"
    },
    {
     "data": {
      "text/plain": [
       "┏━━━━━━━━━━━━━━━━━━━━━━━━━━━━━━━━━┳━━━━━━━━━━━━━━━━━━━━━━━━┳━━━━━━━━━━━━━━━┓\n",
       "┃\u001B[1m \u001B[0m\u001B[1mLayer (type)                   \u001B[0m\u001B[1m \u001B[0m┃\u001B[1m \u001B[0m\u001B[1mOutput Shape          \u001B[0m\u001B[1m \u001B[0m┃\u001B[1m \u001B[0m\u001B[1m      Param #\u001B[0m\u001B[1m \u001B[0m┃\n",
       "┡━━━━━━━━━━━━━━━━━━━━━━━━━━━━━━━━━╇━━━━━━━━━━━━━━━━━━━━━━━━╇━━━━━━━━━━━━━━━┩\n",
       "│ dense_12 (\u001B[38;5;33mDense\u001B[0m)                │ (\u001B[38;5;45mNone\u001B[0m, \u001B[38;5;34m10\u001B[0m)             │         \u001B[38;5;34m1,010\u001B[0m │\n",
       "├─────────────────────────────────┼────────────────────────┼───────────────┤\n",
       "│ leaky_re_lu_7 (\u001B[38;5;33mLeakyReLU\u001B[0m)       │ (\u001B[38;5;45mNone\u001B[0m, \u001B[38;5;34m10\u001B[0m)             │             \u001B[38;5;34m0\u001B[0m │\n",
       "├─────────────────────────────────┼────────────────────────┼───────────────┤\n",
       "│ batch_normalization_2           │ (\u001B[38;5;45mNone\u001B[0m, \u001B[38;5;34m10\u001B[0m)             │            \u001B[38;5;34m40\u001B[0m │\n",
       "│ (\u001B[38;5;33mBatchNormalization\u001B[0m)            │                        │               │\n",
       "├─────────────────────────────────┼────────────────────────┼───────────────┤\n",
       "│ dense_13 (\u001B[38;5;33mDense\u001B[0m)                │ (\u001B[38;5;45mNone\u001B[0m, \u001B[38;5;34m20\u001B[0m)             │           \u001B[38;5;34m220\u001B[0m │\n",
       "├─────────────────────────────────┼────────────────────────┼───────────────┤\n",
       "│ leaky_re_lu_8 (\u001B[38;5;33mLeakyReLU\u001B[0m)       │ (\u001B[38;5;45mNone\u001B[0m, \u001B[38;5;34m20\u001B[0m)             │             \u001B[38;5;34m0\u001B[0m │\n",
       "├─────────────────────────────────┼────────────────────────┼───────────────┤\n",
       "│ dropout_2 (\u001B[38;5;33mDropout\u001B[0m)             │ (\u001B[38;5;45mNone\u001B[0m, \u001B[38;5;34m20\u001B[0m)             │             \u001B[38;5;34m0\u001B[0m │\n",
       "├─────────────────────────────────┼────────────────────────┼───────────────┤\n",
       "│ dense_14 (\u001B[38;5;33mDense\u001B[0m)                │ (\u001B[38;5;45mNone\u001B[0m, \u001B[38;5;34m11\u001B[0m)             │           \u001B[38;5;34m231\u001B[0m │\n",
       "└─────────────────────────────────┴────────────────────────┴───────────────┘\n"
      ],
      "text/html": [
       "<pre style=\"white-space:pre;overflow-x:auto;line-height:normal;font-family:Menlo,'DejaVu Sans Mono',consolas,'Courier New',monospace\">┏━━━━━━━━━━━━━━━━━━━━━━━━━━━━━━━━━┳━━━━━━━━━━━━━━━━━━━━━━━━┳━━━━━━━━━━━━━━━┓\n",
       "┃<span style=\"font-weight: bold\"> Layer (type)                    </span>┃<span style=\"font-weight: bold\"> Output Shape           </span>┃<span style=\"font-weight: bold\">       Param # </span>┃\n",
       "┡━━━━━━━━━━━━━━━━━━━━━━━━━━━━━━━━━╇━━━━━━━━━━━━━━━━━━━━━━━━╇━━━━━━━━━━━━━━━┩\n",
       "│ dense_12 (<span style=\"color: #0087ff; text-decoration-color: #0087ff\">Dense</span>)                │ (<span style=\"color: #00d7ff; text-decoration-color: #00d7ff\">None</span>, <span style=\"color: #00af00; text-decoration-color: #00af00\">10</span>)             │         <span style=\"color: #00af00; text-decoration-color: #00af00\">1,010</span> │\n",
       "├─────────────────────────────────┼────────────────────────┼───────────────┤\n",
       "│ leaky_re_lu_7 (<span style=\"color: #0087ff; text-decoration-color: #0087ff\">LeakyReLU</span>)       │ (<span style=\"color: #00d7ff; text-decoration-color: #00d7ff\">None</span>, <span style=\"color: #00af00; text-decoration-color: #00af00\">10</span>)             │             <span style=\"color: #00af00; text-decoration-color: #00af00\">0</span> │\n",
       "├─────────────────────────────────┼────────────────────────┼───────────────┤\n",
       "│ batch_normalization_2           │ (<span style=\"color: #00d7ff; text-decoration-color: #00d7ff\">None</span>, <span style=\"color: #00af00; text-decoration-color: #00af00\">10</span>)             │            <span style=\"color: #00af00; text-decoration-color: #00af00\">40</span> │\n",
       "│ (<span style=\"color: #0087ff; text-decoration-color: #0087ff\">BatchNormalization</span>)            │                        │               │\n",
       "├─────────────────────────────────┼────────────────────────┼───────────────┤\n",
       "│ dense_13 (<span style=\"color: #0087ff; text-decoration-color: #0087ff\">Dense</span>)                │ (<span style=\"color: #00d7ff; text-decoration-color: #00d7ff\">None</span>, <span style=\"color: #00af00; text-decoration-color: #00af00\">20</span>)             │           <span style=\"color: #00af00; text-decoration-color: #00af00\">220</span> │\n",
       "├─────────────────────────────────┼────────────────────────┼───────────────┤\n",
       "│ leaky_re_lu_8 (<span style=\"color: #0087ff; text-decoration-color: #0087ff\">LeakyReLU</span>)       │ (<span style=\"color: #00d7ff; text-decoration-color: #00d7ff\">None</span>, <span style=\"color: #00af00; text-decoration-color: #00af00\">20</span>)             │             <span style=\"color: #00af00; text-decoration-color: #00af00\">0</span> │\n",
       "├─────────────────────────────────┼────────────────────────┼───────────────┤\n",
       "│ dropout_2 (<span style=\"color: #0087ff; text-decoration-color: #0087ff\">Dropout</span>)             │ (<span style=\"color: #00d7ff; text-decoration-color: #00d7ff\">None</span>, <span style=\"color: #00af00; text-decoration-color: #00af00\">20</span>)             │             <span style=\"color: #00af00; text-decoration-color: #00af00\">0</span> │\n",
       "├─────────────────────────────────┼────────────────────────┼───────────────┤\n",
       "│ dense_14 (<span style=\"color: #0087ff; text-decoration-color: #0087ff\">Dense</span>)                │ (<span style=\"color: #00d7ff; text-decoration-color: #00d7ff\">None</span>, <span style=\"color: #00af00; text-decoration-color: #00af00\">11</span>)             │           <span style=\"color: #00af00; text-decoration-color: #00af00\">231</span> │\n",
       "└─────────────────────────────────┴────────────────────────┴───────────────┘\n",
       "</pre>\n"
      ]
     },
     "metadata": {},
     "output_type": "display_data"
    },
    {
     "data": {
      "text/plain": [
       "\u001B[1m Total params: \u001B[0m\u001B[38;5;34m1,501\u001B[0m (5.86 KB)\n"
      ],
      "text/html": [
       "<pre style=\"white-space:pre;overflow-x:auto;line-height:normal;font-family:Menlo,'DejaVu Sans Mono',consolas,'Courier New',monospace\"><span style=\"font-weight: bold\"> Total params: </span><span style=\"color: #00af00; text-decoration-color: #00af00\">1,501</span> (5.86 KB)\n",
       "</pre>\n"
      ]
     },
     "metadata": {},
     "output_type": "display_data"
    },
    {
     "data": {
      "text/plain": [
       "\u001B[1m Trainable params: \u001B[0m\u001B[38;5;34m1,481\u001B[0m (5.79 KB)\n"
      ],
      "text/html": [
       "<pre style=\"white-space:pre;overflow-x:auto;line-height:normal;font-family:Menlo,'DejaVu Sans Mono',consolas,'Courier New',monospace\"><span style=\"font-weight: bold\"> Trainable params: </span><span style=\"color: #00af00; text-decoration-color: #00af00\">1,481</span> (5.79 KB)\n",
       "</pre>\n"
      ]
     },
     "metadata": {},
     "output_type": "display_data"
    },
    {
     "data": {
      "text/plain": [
       "\u001B[1m Non-trainable params: \u001B[0m\u001B[38;5;34m20\u001B[0m (80.00 B)\n"
      ],
      "text/html": [
       "<pre style=\"white-space:pre;overflow-x:auto;line-height:normal;font-family:Menlo,'DejaVu Sans Mono',consolas,'Courier New',monospace\"><span style=\"font-weight: bold\"> Non-trainable params: </span><span style=\"color: #00af00; text-decoration-color: #00af00\">20</span> (80.00 B)\n",
       "</pre>\n"
      ]
     },
     "metadata": {},
     "output_type": "display_data"
    },
    {
     "name": "stderr",
     "output_type": "stream",
     "text": [
      "/Users/leonprivat/lenskit-env/lib/python3.10/site-packages/keras/src/backend/tensorflow/trainer.py:83: UserWarning: The model does not have any trainable weights.\n",
      "  warnings.warn(\"The model does not have any trainable weights.\")\n"
     ]
    },
    {
     "name": "stdout",
     "output_type": "stream",
     "text": [
      "0 [D loss: 0.408921, acc.: 75.78%] [G loss: 0.471618]\n",
      "200 [D loss: 0.590271, acc.: 52.39%] [G loss: 0.466987]\n",
      "400 [D loss: 0.595943, acc.: 52.20%] [G loss: 0.461343]\n",
      "600 [D loss: 0.602434, acc.: 52.04%] [G loss: 0.455755]\n",
      "800 [D loss: 0.609148, acc.: 51.85%] [G loss: 0.449366]\n",
      "1000 [D loss: 0.615555, acc.: 51.70%] [G loss: 0.443285]\n",
      "1200 [D loss: 0.622863, acc.: 51.56%] [G loss: 0.437636]\n",
      "1400 [D loss: 0.629978, acc.: 51.43%] [G loss: 0.432253]\n",
      "1600 [D loss: 0.638111, acc.: 51.32%] [G loss: 0.426409]\n",
      "1800 [D loss: 0.644697, acc.: 51.21%] [G loss: 0.420992]\n",
      "2000 [D loss: 0.652728, acc.: 51.13%] [G loss: 0.415583]\n",
      "2200 [D loss: 0.659883, acc.: 51.04%] [G loss: 0.410313]\n",
      "2400 [D loss: 0.667510, acc.: 50.97%] [G loss: 0.405058]\n",
      "2600 [D loss: 0.675350, acc.: 50.91%] [G loss: 0.399636]\n",
      "2800 [D loss: 0.683881, acc.: 50.85%] [G loss: 0.394547]\n",
      "3000 [D loss: 0.691925, acc.: 50.80%] [G loss: 0.389434]\n",
      "3200 [D loss: 0.699457, acc.: 50.75%] [G loss: 0.384153]\n",
      "3400 [D loss: 0.708403, acc.: 50.72%] [G loss: 0.379166]\n",
      "3600 [D loss: 0.716423, acc.: 50.68%] [G loss: 0.374173]\n",
      "3800 [D loss: 0.725452, acc.: 50.65%] [G loss: 0.369253]\n",
      "4000 [D loss: 0.734155, acc.: 50.62%] [G loss: 0.364458]\n",
      "4200 [D loss: 0.743366, acc.: 50.59%] [G loss: 0.359603]\n",
      "4400 [D loss: 0.752369, acc.: 50.56%] [G loss: 0.354817]\n",
      "4600 [D loss: 0.760968, acc.: 50.54%] [G loss: 0.350095]\n",
      "4800 [D loss: 0.770306, acc.: 50.51%] [G loss: 0.345447]\n",
      "5000 [D loss: 0.779579, acc.: 50.49%] [G loss: 0.340803]\n",
      "5200 [D loss: 0.789352, acc.: 50.48%] [G loss: 0.336271]\n",
      "5400 [D loss: 0.798768, acc.: 50.46%] [G loss: 0.331825]\n",
      "5600 [D loss: 0.808029, acc.: 50.44%] [G loss: 0.327376]\n",
      "5800 [D loss: 0.817868, acc.: 50.43%] [G loss: 0.322953]\n",
      "6000 [D loss: 0.827730, acc.: 50.41%] [G loss: 0.318709]\n",
      "6200 [D loss: 0.837411, acc.: 50.40%] [G loss: 0.314409]\n",
      "6400 [D loss: 0.847027, acc.: 50.39%] [G loss: 0.310212]\n",
      "6600 [D loss: 0.856913, acc.: 50.37%] [G loss: 0.306050]\n",
      "6800 [D loss: 0.866966, acc.: 50.36%] [G loss: 0.301923]\n",
      "7000 [D loss: 0.877419, acc.: 50.35%] [G loss: 0.297911]\n",
      "7200 [D loss: 0.887846, acc.: 50.34%] [G loss: 0.294017]\n",
      "7400 [D loss: 0.898611, acc.: 50.33%] [G loss: 0.290098]\n",
      "7600 [D loss: 0.909256, acc.: 50.33%] [G loss: 0.286275]\n",
      "7800 [D loss: 0.919901, acc.: 50.32%] [G loss: 0.282545]\n",
      "8000 [D loss: 0.930903, acc.: 50.31%] [G loss: 0.278851]\n",
      "8200 [D loss: 0.942193, acc.: 50.30%] [G loss: 0.275130]\n",
      "8400 [D loss: 0.952961, acc.: 50.29%] [G loss: 0.271517]\n",
      "8600 [D loss: 0.963870, acc.: 50.29%] [G loss: 0.267964]\n",
      "8800 [D loss: 0.975539, acc.: 50.28%] [G loss: 0.264481]\n",
      "9000 [D loss: 0.986957, acc.: 50.27%] [G loss: 0.261035]\n",
      "9200 [D loss: 0.998251, acc.: 50.27%] [G loss: 0.257624]\n",
      "9400 [D loss: 1.009601, acc.: 50.26%] [G loss: 0.254270]\n",
      "9600 [D loss: 1.021447, acc.: 50.26%] [G loss: 0.250978]\n",
      "9800 [D loss: 1.033282, acc.: 50.25%] [G loss: 0.247717]\n",
      "10000 [D loss: 1.044832, acc.: 50.25%] [G loss: 0.244522]\n",
      "10200 [D loss: 1.056300, acc.: 50.24%] [G loss: 0.241393]\n",
      "10400 [D loss: 1.068269, acc.: 50.24%] [G loss: 0.238352]\n",
      "10600 [D loss: 1.080537, acc.: 50.23%] [G loss: 0.235329]\n",
      "10800 [D loss: 1.093034, acc.: 50.23%] [G loss: 0.232351]\n",
      "11000 [D loss: 1.105357, acc.: 50.22%] [G loss: 0.229397]\n",
      "11200 [D loss: 1.117440, acc.: 50.22%] [G loss: 0.226509]\n",
      "11400 [D loss: 1.129628, acc.: 50.22%] [G loss: 0.223691]\n",
      "11600 [D loss: 1.141974, acc.: 50.21%] [G loss: 0.220925]\n",
      "11800 [D loss: 1.154588, acc.: 50.21%] [G loss: 0.218196]\n",
      "12000 [D loss: 1.167368, acc.: 50.21%] [G loss: 0.215508]\n",
      "12200 [D loss: 1.179986, acc.: 50.20%] [G loss: 0.212899]\n",
      "12400 [D loss: 1.192569, acc.: 50.20%] [G loss: 0.210329]\n",
      "12600 [D loss: 1.205044, acc.: 50.20%] [G loss: 0.207793]\n",
      "12800 [D loss: 1.217775, acc.: 50.19%] [G loss: 0.205310]\n",
      "13000 [D loss: 1.230482, acc.: 50.19%] [G loss: 0.202865]\n",
      "13200 [D loss: 1.243667, acc.: 50.19%] [G loss: 0.200470]\n",
      "13400 [D loss: 1.256823, acc.: 50.18%] [G loss: 0.198115]\n",
      "13600 [D loss: 1.269567, acc.: 50.18%] [G loss: 0.195803]\n",
      "13800 [D loss: 1.282681, acc.: 50.18%] [G loss: 0.193535]\n",
      "14000 [D loss: 1.295732, acc.: 50.18%] [G loss: 0.191310]\n",
      "14200 [D loss: 1.309076, acc.: 50.17%] [G loss: 0.189130]\n",
      "14400 [D loss: 1.322417, acc.: 50.17%] [G loss: 0.186995]\n",
      "14600 [D loss: 1.335551, acc.: 50.17%] [G loss: 0.184889]\n",
      "14800 [D loss: 1.348842, acc.: 50.17%] [G loss: 0.182810]\n",
      "15000 [D loss: 1.362243, acc.: 50.16%] [G loss: 0.180783]\n",
      "15200 [D loss: 1.375900, acc.: 50.16%] [G loss: 0.178774]\n",
      "15400 [D loss: 1.389260, acc.: 50.16%] [G loss: 0.176808]\n",
      "15600 [D loss: 1.402630, acc.: 50.16%] [G loss: 0.174881]\n",
      "15800 [D loss: 1.416146, acc.: 50.16%] [G loss: 0.172993]\n",
      "16000 [D loss: 1.429973, acc.: 50.15%] [G loss: 0.171136]\n",
      "16200 [D loss: 1.443611, acc.: 50.15%] [G loss: 0.169308]\n",
      "16400 [D loss: 1.457095, acc.: 50.15%] [G loss: 0.167510]\n",
      "16600 [D loss: 1.470968, acc.: 50.15%] [G loss: 0.165741]\n",
      "16800 [D loss: 1.484739, acc.: 50.15%] [G loss: 0.164016]\n",
      "17000 [D loss: 1.498838, acc.: 50.15%] [G loss: 0.162318]\n",
      "17200 [D loss: 1.512936, acc.: 50.14%] [G loss: 0.160646]\n",
      "17400 [D loss: 1.526828, acc.: 50.14%] [G loss: 0.159013]\n",
      "17600 [D loss: 1.540947, acc.: 50.14%] [G loss: 0.157412]\n",
      "17800 [D loss: 1.554996, acc.: 50.14%] [G loss: 0.155827]\n",
      "18000 [D loss: 1.569197, acc.: 50.14%] [G loss: 0.154268]\n",
      "18200 [D loss: 1.583300, acc.: 50.14%] [G loss: 0.152743]\n",
      "18400 [D loss: 1.597546, acc.: 50.13%] [G loss: 0.151239]\n",
      "18600 [D loss: 1.611757, acc.: 50.13%] [G loss: 0.149772]\n",
      "18800 [D loss: 1.626063, acc.: 50.13%] [G loss: 0.148325]\n",
      "19000 [D loss: 1.640343, acc.: 50.13%] [G loss: 0.146899]\n",
      "19200 [D loss: 1.654632, acc.: 50.13%] [G loss: 0.145500]\n",
      "19400 [D loss: 1.669126, acc.: 50.13%] [G loss: 0.144121]\n",
      "19600 [D loss: 1.683571, acc.: 50.13%] [G loss: 0.142770]\n",
      "19800 [D loss: 1.698008, acc.: 50.12%] [G loss: 0.141444]\n"
     ]
    },
    {
     "name": "stderr",
     "output_type": "stream",
     "text": [
      "WARNING:absl:You are saving your model as an HDF5 file via `model.save()` or `keras.saving.save_model(model)`. This file format is considered legacy. We recommend using instead the native Keras format, e.g. `model.save('my_model.keras')` or `keras.saving.save_model(model, 'my_model.keras')`. \n"
     ]
    }
   ],
   "execution_count": 14
  },
  {
   "metadata": {},
   "cell_type": "code",
   "source": [
    "import os\n",
    "import statistics\n",
    "import pandas as pd\n",
    "import numpy as np\n",
    "from keras.models import load_model\n",
    "from sklearn.cluster import KMeans\n",
    "\n",
    "# Nutzer-Item-Verhältnisse für Szenarien\n",
    "ratios = [(1, 2), (1, 1), (2, 1)]\n",
    "# Sparsitätslevel der Rating-Matrix\n",
    "sparsity_levels = [0.90, 0.95, 0.97, 0.99]\n",
    "target_matrix_size = 1_000_000\n",
    "std = 1.5\n",
    "\n",
    "GAN_PATH = \"../data_generation/models/GANRS.h5\"\n",
    "EMBEDDING_PATH = \"../data_generation/models/embedding_dataset.npy\"\n",
    "OUTPUT_DIR = \"scenarios\"\n",
    "os.makedirs(OUTPUT_DIR, exist_ok=True)\n",
    "\n",
    "# Matrixgröße berechnen\n",
    "def get_shape_for_scenario_fixed_matrix_size(user_item_ratio, target_matrix_size):\n",
    "    ratio_u, ratio_i = user_item_ratio\n",
    "    scale = (target_matrix_size / (ratio_u * ratio_i)) ** 0.5\n",
    "    return int(scale * ratio_u), int(scale * ratio_i)\n",
    "\n",
    "# Ratings runden auf [1, 5]\n",
    "def round_rating(r):\n",
    "    return max(1, min(5, int(np.round(r))))\n",
    "\n",
    "# Modelle laden\n",
    "embedding_dataset = np.load(EMBEDDING_PATH)\n",
    "gan = load_model(GAN_PATH, compile=False)\n",
    "\n",
    "# Maximale Anzahl Ratings bestimmen\n",
    "max_scenario_size = max([\n",
    "    get_shape_for_scenario_fixed_matrix_size(ratio, target_matrix_size)[0] *\n",
    "    get_shape_for_scenario_fixed_matrix_size(ratio, target_matrix_size)[1] *\n",
    "    (1 - sparsity)\n",
    "    for ratio in ratios for sparsity in sparsity_levels\n",
    "])\n",
    "\n",
    "FAKE_SAMPLES = int(max_scenario_size * 10)\n",
    "\n",
    "noise_dim = gan.input_shape[1]\n",
    "latent_dim = (gan.output_shape[1] - 1) // 2\n",
    "noise = np.random.normal(0, std, (FAKE_SAMPLES, noise_dim))\n",
    "augmented = gan.predict(noise)\n",
    "\n",
    "# Ratings normalisieren\n",
    "y = augmented[:, -1]\n",
    "augmented[:, -1] *= statistics.mean(embedding_dataset[:, -1]) / statistics.mean(y)\n",
    "\n",
    "sizes = []\n",
    "scenario_id = 1\n",
    "\n",
    "for ratio in ratios:\n",
    "    for sparsity in sparsity_levels:\n",
    "        n_users, n_items = get_shape_for_scenario_fixed_matrix_size(ratio, target_matrix_size)\n",
    "        n_ratings = int(n_users * n_items * (1 - sparsity))\n",
    "\n",
    "        # KMeans-Clustering\n",
    "        clustering_users = KMeans(n_clusters=n_users, n_init=1, max_iter=100)\n",
    "        cluster_users = clustering_users.fit_predict(augmented[:FAKE_SAMPLES, :latent_dim])\n",
    "        clustering_items = KMeans(n_clusters=n_items, n_init=1, max_iter=100)\n",
    "        cluster_items = clustering_items.fit_predict(augmented[:FAKE_SAMPLES, latent_dim:-1])\n",
    "\n",
    "        triples = []\n",
    "        used_pairs = set()\n",
    "\n",
    "        for i in range(FAKE_SAMPLES):\n",
    "            if len(triples) >= n_ratings:\n",
    "                break\n",
    "            user = int(cluster_users[i])\n",
    "            item = int(cluster_items[i])\n",
    "            if (user, item) in used_pairs:\n",
    "                continue\n",
    "            used_pairs.add((user, item))\n",
    "\n",
    "            rating = augmented[i, -1] * 4. + 3.\n",
    "            rating = round_rating(rating)\n",
    "            triples.append([user, item, rating])\n",
    "\n",
    "        if len(triples) < n_ratings:\n",
    "            scenario_id += 1\n",
    "            continue\n",
    "\n",
    "        df = pd.DataFrame(triples, columns=['user', 'item', 'rating'])\n",
    "        df.to_csv(os.path.join(OUTPUT_DIR, f\"scenario{scenario_id:02d}.csv\"), index=False)\n",
    "        sizes.append([scenario_id, len(df)])\n",
    "        scenario_id += 1"
   ],
   "id": "6f1477d8a69b1b14",
   "outputs": [],
   "execution_count": null
  }
 ],
 "metadata": {
  "kernelspec": {
   "display_name": "Python 3",
   "language": "python",
   "name": "python3"
  },
  "language_info": {
   "codemirror_mode": {
    "name": "ipython",
    "version": 2
   },
   "file_extension": ".py",
   "mimetype": "text/x-python",
   "name": "python",
   "nbconvert_exporter": "python",
   "pygments_lexer": "ipython2",
   "version": "2.7.6"
  }
 },
 "nbformat": 4,
 "nbformat_minor": 5
}
